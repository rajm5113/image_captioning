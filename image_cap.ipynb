{
 "cells": [
  {
   "cell_type": "code",
   "execution_count": 20,
   "id": "0210377a",
   "metadata": {},
   "outputs": [],
   "source": [
    "import gradio as gr\n",
    "import numpy as np\n",
    "from PIL import Image\n",
    "from transformers import AutoProcessor, BlipForConditionalGeneration"
   ]
  },
  {
   "cell_type": "code",
   "execution_count": 21,
   "id": "251583cf",
   "metadata": {},
   "outputs": [],
   "source": [
    "processor = AutoProcessor.from_pretrained(\"Salesforce/blip-image-captioning-base\")\n",
    "model = BlipForConditionalGeneration.from_pretrained(\"Salesforce/blip-image-captioning-base\")"
   ]
  },
  {
   "cell_type": "code",
   "execution_count": 22,
   "id": "e3df1f5c",
   "metadata": {},
   "outputs": [],
   "source": [
    "def caption_image(input_image :np.ndarray):\n",
    "    raw_image = Image.fromarray(input_image).convert('RGB')\n",
    "    \n",
    "    inputs = processor(images = raw_image, return_tensors=\"pt\")\n",
    "    outputs = model.generate(pixel_values=inputs[\"pixel_values\"], max_length=500000)\n",
    "    caption = processor.decode(outputs[0], skip_special_tokens = True)\n",
    "\n",
    "    return caption"
   ]
  },
  {
   "cell_type": "code",
   "execution_count": 23,
   "id": "dd2d0f40",
   "metadata": {},
   "outputs": [],
   "source": [
    "iface = gr.Interface(\n",
    "    fn = caption_image,\n",
    "    inputs= gr.Image(),\n",
    "    outputs=\"text\",\n",
    "    title = \"Image Captioning\",\n",
    "    description = \"This is a simple web app for generating caption for image using a trianed model.\"\n",
    ")"
   ]
  },
  {
   "cell_type": "code",
   "execution_count": null,
   "id": "e9a0f1bf",
   "metadata": {},
   "outputs": [],
   "source": [
    "iface.launch()"
   ]
  },
  {
   "cell_type": "code",
   "execution_count": null,
   "id": "7de79f80",
   "metadata": {},
   "outputs": [],
   "source": []
  }
 ],
 "metadata": {
  "kernelspec": {
   "display_name": "Python 3",
   "language": "python",
   "name": "python3"
  },
  "language_info": {
   "codemirror_mode": {
    "name": "ipython",
    "version": 3
   },
   "file_extension": ".py",
   "mimetype": "text/x-python",
   "name": "python",
   "nbconvert_exporter": "python",
   "pygments_lexer": "ipython3",
   "version": "3.11.9"
  }
 },
 "nbformat": 4,
 "nbformat_minor": 5
}
