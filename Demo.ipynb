{
 "cells": [
  {
   "cell_type": "code",
   "execution_count": 18,
   "id": "c3a40545",
   "metadata": {},
   "outputs": [],
   "source": [
    "import requests\n",
    "from PIL import Image\n",
    "from transformers import AutoProcessor, BlipForConditionalGeneration\n",
    "\n",
    "#Load the pretrained processor and model\n",
    "processor = AutoProcessor.from_pretrained(\"Salesforce/blip-image-captioning-base\")\n",
    "model = BlipForConditionalGeneration.from_pretrained(\"Salesforce/blip-image-captioning-base\")"
   ]
  },
  {
   "cell_type": "code",
   "execution_count": 26,
   "id": "505fbcaa",
   "metadata": {},
   "outputs": [],
   "source": [
    "img_path = r\"C:\\Users\\DELL\\OneDrive\\Courcera\\IBM Generative AI Engineering\\3 Building Generative AI-Powered Applications with Python\\Lab Give Meaningful Names to Your Photos with IMG Captioning AI\\image_captioning\\my_env\\Image - paypal.png\"\n",
    "image = Image.open(img_path).convert('RGB')"
   ]
  },
  {
   "cell_type": "code",
   "execution_count": null,
   "id": "5903f87a",
   "metadata": {},
   "outputs": [],
   "source": [
    "text = \"the image of\"\n",
    "inputs = processor(images = image, return_tensors=\"pt\")"
   ]
  },
  {
   "cell_type": "code",
   "execution_count": 28,
   "id": "3e2e898f",
   "metadata": {},
   "outputs": [],
   "source": [
    "outputs = model.generate(pixel_values=inputs[\"pixel_values\"], max_length=50)"
   ]
  },
  {
   "cell_type": "code",
   "execution_count": null,
   "id": "a1c2c20b",
   "metadata": {},
   "outputs": [
    {
     "name": "stdout",
     "output_type": "stream",
     "text": [
      "the paypa logo with many different logos\n"
     ]
    }
   ],
   "source": [
    "caption = processor.decode(outputs[0], skip_special_tokens = True)\n",
    "\n",
    "print(caption)"
   ]
  },
  {
   "cell_type": "code",
   "execution_count": null,
   "id": "91cb0ccc",
   "metadata": {},
   "outputs": [],
   "source": []
  },
  {
   "cell_type": "code",
   "execution_count": null,
   "id": "f66699fc",
   "metadata": {},
   "outputs": [],
   "source": []
  }
 ],
 "metadata": {
  "kernelspec": {
   "display_name": "Python 3",
   "language": "python",
   "name": "python3"
  },
  "language_info": {
   "codemirror_mode": {
    "name": "ipython",
    "version": 3
   },
   "file_extension": ".py",
   "mimetype": "text/x-python",
   "name": "python",
   "nbconvert_exporter": "python",
   "pygments_lexer": "ipython3",
   "version": "3.11.9"
  }
 },
 "nbformat": 4,
 "nbformat_minor": 5
}
